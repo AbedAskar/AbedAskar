{
  "nbformat": 4,
  "nbformat_minor": 0,
  "metadata": {
    "colab": {
      "provenance": [],
      "authorship_tag": "ABX9TyPRAht5QmlcIUGSf+3c9PY5",
      "include_colab_link": true
    },
    "kernelspec": {
      "name": "python3",
      "display_name": "Python 3"
    },
    "language_info": {
      "name": "python"
    }
  },
  "cells": [
    {
      "cell_type": "markdown",
      "metadata": {
        "id": "view-in-github",
        "colab_type": "text"
      },
      "source": [
        "<a href=\"https://colab.research.google.com/github/AbedAskar/AbedAskar/blob/main/pythonPractices.ipynb\" target=\"_parent\"><img src=\"https://colab.research.google.com/assets/colab-badge.svg\" alt=\"Open In Colab\"/></a>"
      ]
    },
    {
      "cell_type": "code",
      "execution_count": null,
      "metadata": {
        "colab": {
          "base_uri": "https://localhost:8080/"
        },
        "id": "porNSyXFw2c4",
        "outputId": "6b15a425-6345-4001-a3b2-6321266116a1"
      },
      "outputs": [
        {
          "output_type": "stream",
          "name": "stdout",
          "text": [
            "python 5\n"
          ]
        }
      ],
      "source": [
        "print (\"python\", 3+2)"
      ]
    },
    {
      "cell_type": "code",
      "source": [
        "x = input(\"Enter a number: \")\n",
        "\n",
        "print(x * 2)"
      ],
      "metadata": {
        "colab": {
          "base_uri": "https://localhost:8080/"
        },
        "id": "2nBedT878zFR",
        "outputId": "b0ec7f9b-94a0-4b1f-b700-79b28c2ce743"
      },
      "execution_count": null,
      "outputs": [
        {
          "output_type": "stream",
          "name": "stdout",
          "text": [
            "Enter a number: 7\n",
            "77\n"
          ]
        }
      ]
    },
    {
      "cell_type": "code",
      "source": [
        "print(10 // 3)"
      ],
      "metadata": {
        "colab": {
          "base_uri": "https://localhost:8080/"
        },
        "id": "KvQBAeAK9DJV",
        "outputId": "1cd495a7-f400-40a5-ffdd-6149ed6adc34"
      },
      "execution_count": null,
      "outputs": [
        {
          "output_type": "stream",
          "name": "stdout",
          "text": [
            "3\n"
          ]
        }
      ]
    },
    {
      "cell_type": "code",
      "source": [
        "a=2\n",
        "b=4\n",
        "c=a+b\n",
        "print(\"a+b=%d\" %c)"
      ],
      "metadata": {
        "colab": {
          "base_uri": "https://localhost:8080/"
        },
        "id": "aXM_IYSU9MUk",
        "outputId": "56188e60-8063-41a7-d437-f66f72687801"
      },
      "execution_count": null,
      "outputs": [
        {
          "output_type": "stream",
          "name": "stdout",
          "text": [
            "a+b=6\n"
          ]
        }
      ]
    },
    {
      "cell_type": "code",
      "source": [
        "name = \"Abed\"\n",
        "age = 50\n",
        "print (f\"سلام\",name)"
      ],
      "metadata": {
        "colab": {
          "base_uri": "https://localhost:8080/"
        },
        "id": "Gd5lPQBBe1wE",
        "outputId": "4853d552-75b5-4b85-fab6-bc7c37c9ad38"
      },
      "execution_count": 1,
      "outputs": [
        {
          "output_type": "stream",
          "name": "stdout",
          "text": [
            "سلام Abed\n"
          ]
        }
      ]
    },
    {
      "cell_type": "code",
      "source": [
        "a = int(input(\"عدد اول :  \"))\n",
        "b = int(input(\"عدد دوم :  \"))\n",
        "\n",
        "c = a / b\n",
        "if c > 1:\n",
        "    print(f\"{c}c\")\n",
        "elif c == 1:\n",
        "    print(f\"{a} = {b}\")\n",
        "else:\n",
        "    print(\"Result is less than 1\")"
      ],
      "metadata": {
        "colab": {
          "base_uri": "https://localhost:8080/"
        },
        "id": "1qfBp7nLfQhW",
        "outputId": "074883d6-fdbf-48f9-c194-cd19cb976bef"
      },
      "execution_count": 10,
      "outputs": [
        {
          "output_type": "stream",
          "name": "stdout",
          "text": [
            "عدد اول :  5\n",
            "عدد دوم :  5\n",
            "5 = 5\n"
          ]
        }
      ]
    },
    {
      "cell_type": "code",
      "source": [
        "for i in range(1,51):\n",
        "  if i % 2 != 0:\n",
        "    print (str(i) + \" is odd\")\n"
      ],
      "metadata": {
        "colab": {
          "base_uri": "https://localhost:8080/"
        },
        "id": "XLnAr0hynGRF",
        "outputId": "63fa0c65-01f2-4472-90db-2272063f8f93"
      },
      "execution_count": 14,
      "outputs": [
        {
          "output_type": "stream",
          "name": "stdout",
          "text": [
            "1 is odd\n",
            "3 is odd\n",
            "5 is odd\n",
            "7 is odd\n",
            "9 is odd\n",
            "11 is odd\n",
            "13 is odd\n",
            "15 is odd\n",
            "17 is odd\n",
            "19 is odd\n",
            "21 is odd\n",
            "23 is odd\n",
            "25 is odd\n",
            "27 is odd\n",
            "29 is odd\n",
            "31 is odd\n",
            "33 is odd\n",
            "35 is odd\n",
            "37 is odd\n",
            "39 is odd\n",
            "41 is odd\n",
            "43 is odd\n",
            "45 is odd\n",
            "47 is odd\n",
            "49 is odd\n"
          ]
        }
      ]
    },
    {
      "cell_type": "code",
      "source": [
        "a = 5\n",
        "while a> 0 :\n",
        "  print(a)\n",
        "  a -=1"
      ],
      "metadata": {
        "colab": {
          "base_uri": "https://localhost:8080/"
        },
        "id": "OQNVoYZVo0tO",
        "outputId": "e2b656e4-4576-4994-ddd7-1796abc64987"
      },
      "execution_count": 15,
      "outputs": [
        {
          "output_type": "stream",
          "name": "stdout",
          "text": [
            "5\n",
            "4\n",
            "3\n",
            "2\n",
            "1\n"
          ]
        }
      ]
    },
    {
      "cell_type": "code",
      "source": [
        "ai = input(\"عدد را وارد کن: \")\n",
        "try:\n",
        "  a = int(ai)\n",
        "  if a % 2 != 0:\n",
        "    print(f\"{a}  is Odd\")\n",
        "  else:\n",
        "    print(f\"{a} is Even\")\n",
        "except ValueError:\n",
        "    print(\"ورودی معتبر نیست.\")"
      ],
      "metadata": {
        "colab": {
          "base_uri": "https://localhost:8080/"
        },
        "outputId": "cfea815e-7a42-4111-d74c-631738dd9af9",
        "id": "DG2dvYGlsYIY"
      },
      "execution_count": 26,
      "outputs": [
        {
          "output_type": "stream",
          "name": "stdout",
          "text": [
            "عدد را وارد کن: 3\n",
            "3  is Odd\n"
          ]
        }
      ]
    }
  ]
}